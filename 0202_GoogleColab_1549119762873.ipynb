{
  "cells": [
    {
      "cell_type": "markdown",
      "metadata": {
        "id": "view-in-github",
        "colab_type": "text"
      },
      "source": [
        "<a href=\"https://colab.research.google.com/github/SJMOLIA/MyApp/blob/main/0202_GoogleColab_1549119762873.ipynb\" target=\"_parent\"><img src=\"https://colab.research.google.com/assets/colab-badge.svg\" alt=\"Open In Colab\"/></a>"
      ]
    },
    {
      "cell_type": "markdown",
      "metadata": {
        "id": "U3yct2s2Pme9"
      },
      "source": [
        "# Section 1\n",
        "Simple Linux commands\n"
      ]
    },
    {
      "cell_type": "code",
      "execution_count": 1,
      "metadata": {
        "colab": {
          "base_uri": "https://localhost:8080/"
        },
        "id": "pzDl5mOYPhdj",
        "outputId": "7f082ff7-8f68-4752-b2c9-fbd78af66629"
      },
      "outputs": [
        {
          "output_type": "stream",
          "name": "stdout",
          "text": [
            "sample_data\n"
          ]
        }
      ],
      "source": [
        "!ls"
      ]
    },
    {
      "cell_type": "markdown",
      "metadata": {
        "id": "hJl-Mgq046IJ"
      },
      "source": [
        "Hi $Latex$"
      ]
    },
    {
      "cell_type": "code",
      "metadata": {
        "id": "Syk1BebHPuYe"
      },
      "source": [],
      "execution_count": null,
      "outputs": []
    },
    {
      "cell_type": "code",
      "execution_count": null,
      "metadata": {
        "colab": {
          "base_uri": "https://localhost:8080/",
          "height": 36
        },
        "id": "PtSBz7pDOAwI",
        "outputId": "278784d1-2f70-4e75-880a-1a2d69147d0a"
      },
      "outputs": [
        {
          "name": "stdout",
          "output_type": "stream",
          "text": [
            "0202_GoogleColab-1549119762873.ipynb\r\n",
            "0202_PythonBasics-1549119762879.ipynb\r\n",
            "0207_MorePythonBasics-1549598493600.ipynb\r\n",
            "0207_Vectors-1549598493596.ipynb\r\n",
            "0214_MPNeuronAndPerceptron-1550141205767.ipynb\r\n",
            "0225_SigmoidNeuron-1551169534921.ipynb\r\n",
            "0228_SigmoidNeuron-1551253091703.ipynb\r\n",
            "0318_FeedForwardNetwork_new-1553058835338.ipynb\r\n",
            "0324_ScalarBackpropagation-1553414815802.ipynb\r\n",
            "0404_GDAlgorithms-1554543997405.ipynb\r\n",
            "0407_GDAlgorithms-1554564131435.ipynb\r\n",
            "0413_InitialisationActivationFunctions-1555126885979.ipynb\r\n",
            "0417_OverfittingAndRegularisation-1555486774539.ipynb\r\n",
            "0420_PytorchIntro-1555587538086.ipynb\r\n",
            "0422_FFNetworksWithPyTorch-1555679700514.ipynb\r\n",
            "0429_PyTorchCNN-1556352430467.ipynb\r\n",
            "0505_LargeCNNs-1557218705862.ipynb\r\n",
            "0511_CNNVisualisation-1557554669715 (1).ipynb\r\n",
            "0511_CNNVisualisation-1557554669715.ipynb\r\n",
            "0516_BatchNorm_Dropout-1557985188257.ipynb\r\n",
            "0518_HyperparameterTuning_MLFlow-1558166961869.ipynb\r\n",
            "_07_06_RNNs-1562395440877.ipynb\r\n",
            "0715_BatchSeqModels.ipynb\r\n",
            "0721_EncoderDecoderArchitecture-1563719382708.ipynb\r\n",
            "2nd set\r\n",
            "Contest_1_1_Solution_Sample-1550240301484.ipynb\r\n",
            "mobile_cleaned.csv\r\n",
            "my_first_module.py\r\n",
            "onefourthlabs.png\r\n",
            "__pycache__\r\n",
            "Untitled.ipynb\r\n"
          ]
        }
      ],
      "source": [
        "!ls"
      ]
    },
    {
      "cell_type": "code",
      "execution_count": null,
      "metadata": {
        "id": "uMGSTI6COZ11",
        "outputId": "2c434c34-fde0-42c7-f839-54c638eeea1e"
      },
      "outputs": [
        {
          "name": "stdout",
          "output_type": "stream",
          "text": [
            "processor\t: 0\r\n",
            "vendor_id\t: GenuineIntel\r\n",
            "cpu family\t: 6\r\n",
            "model\t\t: 78\r\n",
            "model name\t: Intel(R) Core(TM) i5-6300U CPU @ 2.40GHz\r\n",
            "stepping\t: 3\r\n",
            "microcode\t: 0xe2\r\n",
            "cpu MHz\t\t: 1198.549\r\n",
            "cache size\t: 3072 KB\r\n",
            "physical id\t: 0\r\n",
            "siblings\t: 4\r\n",
            "core id\t\t: 0\r\n",
            "cpu cores\t: 2\r\n",
            "apicid\t\t: 0\r\n",
            "initial apicid\t: 0\r\n",
            "fpu\t\t: yes\r\n",
            "fpu_exception\t: yes\r\n",
            "cpuid level\t: 22\r\n",
            "wp\t\t: yes\r\n",
            "flags\t\t: fpu vme de pse tsc msr pae mce cx8 apic sep mtrr pge mca cmov pat pse36 clflush dts acpi mmx fxsr sse sse2 ss ht tm pbe syscall nx pdpe1gb rdtscp lm constant_tsc art arch_perfmon pebs bts rep_good nopl xtopology nonstop_tsc cpuid aperfmperf pni pclmulqdq dtes64 monitor ds_cpl vmx smx est tm2 ssse3 sdbg fma cx16 xtpr pdcm pcid sse4_1 sse4_2 x2apic movbe popcnt tsc_deadline_timer aes xsave avx f16c rdrand lahf_lm abm 3dnowprefetch cpuid_fault epb invpcid_single pti ssbd ibrs ibpb stibp tpr_shadow vnmi flexpriority ept vpid fsgsbase tsc_adjust bmi1 hle avx2 smep bmi2 erms invpcid rtm mpx rdseed adx smap clflushopt intel_pt xsaveopt xsavec xgetbv1 xsaves dtherm arat pln pts hwp hwp_notify hwp_act_window hwp_epp md_clear flush_l1d\r\n",
            "bugs\t\t: cpu_meltdown spectre_v1 spectre_v2 spec_store_bypass l1tf mds swapgs taa itlb_multihit srbds\r\n",
            "bogomips\t: 4999.90\r\n",
            "clflush size\t: 64\r\n",
            "cache_alignment\t: 64\r\n",
            "address sizes\t: 39 bits physical, 48 bits virtual\r\n",
            "power management:\r\n",
            "\r\n",
            "processor\t: 1\r\n",
            "vendor_id\t: GenuineIntel\r\n",
            "cpu family\t: 6\r\n",
            "model\t\t: 78\r\n",
            "model name\t: Intel(R) Core(TM) i5-6300U CPU @ 2.40GHz\r\n",
            "stepping\t: 3\r\n",
            "microcode\t: 0xe2\r\n",
            "cpu MHz\t\t: 1271.812\r\n",
            "cache size\t: 3072 KB\r\n",
            "physical id\t: 0\r\n",
            "siblings\t: 4\r\n",
            "core id\t\t: 1\r\n",
            "cpu cores\t: 2\r\n",
            "apicid\t\t: 2\r\n",
            "initial apicid\t: 2\r\n",
            "fpu\t\t: yes\r\n",
            "fpu_exception\t: yes\r\n",
            "cpuid level\t: 22\r\n",
            "wp\t\t: yes\r\n",
            "flags\t\t: fpu vme de pse tsc msr pae mce cx8 apic sep mtrr pge mca cmov pat pse36 clflush dts acpi mmx fxsr sse sse2 ss ht tm pbe syscall nx pdpe1gb rdtscp lm constant_tsc art arch_perfmon pebs bts rep_good nopl xtopology nonstop_tsc cpuid aperfmperf pni pclmulqdq dtes64 monitor ds_cpl vmx smx est tm2 ssse3 sdbg fma cx16 xtpr pdcm pcid sse4_1 sse4_2 x2apic movbe popcnt tsc_deadline_timer aes xsave avx f16c rdrand lahf_lm abm 3dnowprefetch cpuid_fault epb invpcid_single pti ssbd ibrs ibpb stibp tpr_shadow vnmi flexpriority ept vpid fsgsbase tsc_adjust bmi1 hle avx2 smep bmi2 erms invpcid rtm mpx rdseed adx smap clflushopt intel_pt xsaveopt xsavec xgetbv1 xsaves dtherm arat pln pts hwp hwp_notify hwp_act_window hwp_epp md_clear flush_l1d\r\n",
            "bugs\t\t: cpu_meltdown spectre_v1 spectre_v2 spec_store_bypass l1tf mds swapgs taa itlb_multihit srbds\r\n",
            "bogomips\t: 4999.90\r\n",
            "clflush size\t: 64\r\n",
            "cache_alignment\t: 64\r\n",
            "address sizes\t: 39 bits physical, 48 bits virtual\r\n",
            "power management:\r\n",
            "\r\n",
            "processor\t: 2\r\n",
            "vendor_id\t: GenuineIntel\r\n",
            "cpu family\t: 6\r\n",
            "model\t\t: 78\r\n",
            "model name\t: Intel(R) Core(TM) i5-6300U CPU @ 2.40GHz\r\n",
            "stepping\t: 3\r\n",
            "microcode\t: 0xe2\r\n",
            "cpu MHz\t\t: 1251.715\r\n",
            "cache size\t: 3072 KB\r\n",
            "physical id\t: 0\r\n",
            "siblings\t: 4\r\n",
            "core id\t\t: 0\r\n",
            "cpu cores\t: 2\r\n",
            "apicid\t\t: 1\r\n",
            "initial apicid\t: 1\r\n",
            "fpu\t\t: yes\r\n",
            "fpu_exception\t: yes\r\n",
            "cpuid level\t: 22\r\n",
            "wp\t\t: yes\r\n",
            "flags\t\t: fpu vme de pse tsc msr pae mce cx8 apic sep mtrr pge mca cmov pat pse36 clflush dts acpi mmx fxsr sse sse2 ss ht tm pbe syscall nx pdpe1gb rdtscp lm constant_tsc art arch_perfmon pebs bts rep_good nopl xtopology nonstop_tsc cpuid aperfmperf pni pclmulqdq dtes64 monitor ds_cpl vmx smx est tm2 ssse3 sdbg fma cx16 xtpr pdcm pcid sse4_1 sse4_2 x2apic movbe popcnt tsc_deadline_timer aes xsave avx f16c rdrand lahf_lm abm 3dnowprefetch cpuid_fault epb invpcid_single pti ssbd ibrs ibpb stibp tpr_shadow vnmi flexpriority ept vpid fsgsbase tsc_adjust bmi1 hle avx2 smep bmi2 erms invpcid rtm mpx rdseed adx smap clflushopt intel_pt xsaveopt xsavec xgetbv1 xsaves dtherm arat pln pts hwp hwp_notify hwp_act_window hwp_epp md_clear flush_l1d\r\n",
            "bugs\t\t: cpu_meltdown spectre_v1 spectre_v2 spec_store_bypass l1tf mds swapgs taa itlb_multihit srbds\r\n",
            "bogomips\t: 4999.90\r\n",
            "clflush size\t: 64\r\n",
            "cache_alignment\t: 64\r\n",
            "address sizes\t: 39 bits physical, 48 bits virtual\r\n",
            "power management:\r\n",
            "\r\n",
            "processor\t: 3\r\n",
            "vendor_id\t: GenuineIntel\r\n",
            "cpu family\t: 6\r\n",
            "model\t\t: 78\r\n",
            "model name\t: Intel(R) Core(TM) i5-6300U CPU @ 2.40GHz\r\n",
            "stepping\t: 3\r\n",
            "microcode\t: 0xe2\r\n",
            "cpu MHz\t\t: 1269.755\r\n",
            "cache size\t: 3072 KB\r\n",
            "physical id\t: 0\r\n",
            "siblings\t: 4\r\n",
            "core id\t\t: 1\r\n",
            "cpu cores\t: 2\r\n",
            "apicid\t\t: 3\r\n",
            "initial apicid\t: 3\r\n",
            "fpu\t\t: yes\r\n",
            "fpu_exception\t: yes\r\n",
            "cpuid level\t: 22\r\n",
            "wp\t\t: yes\r\n",
            "flags\t\t: fpu vme de pse tsc msr pae mce cx8 apic sep mtrr pge mca cmov pat pse36 clflush dts acpi mmx fxsr sse sse2 ss ht tm pbe syscall nx pdpe1gb rdtscp lm constant_tsc art arch_perfmon pebs bts rep_good nopl xtopology nonstop_tsc cpuid aperfmperf pni pclmulqdq dtes64 monitor ds_cpl vmx smx est tm2 ssse3 sdbg fma cx16 xtpr pdcm pcid sse4_1 sse4_2 x2apic movbe popcnt tsc_deadline_timer aes xsave avx f16c rdrand lahf_lm abm 3dnowprefetch cpuid_fault epb invpcid_single pti ssbd ibrs ibpb stibp tpr_shadow vnmi flexpriority ept vpid fsgsbase tsc_adjust bmi1 hle avx2 smep bmi2 erms invpcid rtm mpx rdseed adx smap clflushopt intel_pt xsaveopt xsavec xgetbv1 xsaves dtherm arat pln pts hwp hwp_notify hwp_act_window hwp_epp md_clear flush_l1d\r\n",
            "bugs\t\t: cpu_meltdown spectre_v1 spectre_v2 spec_store_bypass l1tf mds swapgs taa itlb_multihit srbds\r\n",
            "bogomips\t: 4999.90\r\n",
            "clflush size\t: 64\r\n",
            "cache_alignment\t: 64\r\n",
            "address sizes\t: 39 bits physical, 48 bits virtual\r\n",
            "power management:\r\n",
            "\r\n"
          ]
        }
      ],
      "source": [
        "!cat /proc/cpuinfo"
      ]
    },
    {
      "cell_type": "code",
      "execution_count": null,
      "metadata": {
        "id": "zUszNle1OpUX",
        "outputId": "e01bd12f-6a1c-466d-fd11-38bf60cebfe5"
      },
      "outputs": [
        {
          "name": "stdout",
          "output_type": "stream",
          "text": [
            "MemTotal:        8046376 kB\r\n",
            "MemFree:         4820416 kB\r\n",
            "MemAvailable:    5865740 kB\r\n",
            "Buffers:          115104 kB\r\n",
            "Cached:          1542592 kB\r\n",
            "SwapCached:            0 kB\r\n",
            "Active:          1881400 kB\r\n",
            "Inactive:        1094352 kB\r\n",
            "Active(anon):    1320060 kB\r\n",
            "Inactive(anon):   435240 kB\r\n",
            "Active(file):     561340 kB\r\n",
            "Inactive(file):   659112 kB\r\n",
            "Unevictable:         200 kB\r\n",
            "Mlocked:             200 kB\r\n",
            "SwapTotal:       8016892 kB\r\n",
            "SwapFree:        8016892 kB\r\n",
            "Dirty:               288 kB\r\n",
            "Writeback:             0 kB\r\n",
            "AnonPages:       1318484 kB\r\n",
            "Mapped:           441384 kB\r\n",
            "Shmem:            436988 kB\r\n",
            "Slab:             134704 kB\r\n",
            "SReclaimable:      88752 kB\r\n",
            "SUnreclaim:        45952 kB\r\n",
            "KernelStack:       11216 kB\r\n",
            "PageTables:        48708 kB\r\n",
            "NFS_Unstable:          0 kB\r\n",
            "Bounce:                0 kB\r\n",
            "WritebackTmp:          0 kB\r\n",
            "CommitLimit:    12040080 kB\r\n",
            "Committed_AS:    7926768 kB\r\n",
            "VmallocTotal:   34359738367 kB\r\n",
            "VmallocUsed:           0 kB\r\n",
            "VmallocChunk:          0 kB\r\n",
            "HardwareCorrupted:     0 kB\r\n",
            "AnonHugePages:         0 kB\r\n",
            "ShmemHugePages:        0 kB\r\n",
            "ShmemPmdMapped:        0 kB\r\n",
            "CmaTotal:              0 kB\r\n",
            "CmaFree:               0 kB\r\n",
            "HugePages_Total:       0\r\n",
            "HugePages_Free:        0\r\n",
            "HugePages_Rsvd:        0\r\n",
            "HugePages_Surp:        0\r\n",
            "Hugepagesize:       2048 kB\r\n",
            "DirectMap4k:      183280 kB\r\n",
            "DirectMap2M:     4937728 kB\r\n",
            "DirectMap1G:     3145728 kB\r\n"
          ]
        }
      ],
      "source": [
        "!cat /proc/meminfo"
      ]
    },
    {
      "cell_type": "markdown",
      "metadata": {
        "id": "VeFHYl-ePWJh"
      },
      "source": [
        "This is a text cell, where I can write in **bold**\n",
        "I can also write in $\\LaTeX$"
      ]
    },
    {
      "cell_type": "markdown",
      "metadata": {
        "id": "FrlMN3ePP1z1"
      },
      "source": [
        "# Section 2\n",
        "Moving on to Python"
      ]
    },
    {
      "cell_type": "code",
      "execution_count": null,
      "metadata": {
        "id": "htOrprwW46IQ",
        "outputId": "6e015697-364c-4775-bd19-ee2139f8eabe"
      },
      "outputs": [
        {
          "name": "stdout",
          "output_type": "stream",
          "text": [
            "hello\n"
          ]
        }
      ],
      "source": [
        "print ('hello')"
      ]
    },
    {
      "cell_type": "code",
      "execution_count": null,
      "metadata": {
        "id": "IXYOUrDn46IR",
        "outputId": "c3604a80-cc16-42c4-c6c1-2ffb9214ed36"
      },
      "outputs": [
        {
          "name": "stdout",
          "output_type": "stream",
          "text": [
            "hello\n"
          ]
        }
      ],
      "source": [
        "print ('hello')"
      ]
    },
    {
      "cell_type": "code",
      "execution_count": null,
      "metadata": {
        "id": "OsPD-vvv46IS"
      },
      "outputs": [],
      "source": [
        "x=list(range(1,5,2))"
      ]
    },
    {
      "cell_type": "code",
      "execution_count": null,
      "metadata": {
        "id": "W-bFfkW846IT",
        "outputId": "1d9fef21-a27c-44b8-f5ea-60fdafecab7d"
      },
      "outputs": [
        {
          "data": {
            "text/plain": [
              "[1, 3]"
            ]
          },
          "execution_count": 22,
          "metadata": {},
          "output_type": "execute_result"
        }
      ],
      "source": [
        "x"
      ]
    },
    {
      "cell_type": "code",
      "execution_count": null,
      "metadata": {
        "id": "c0oZ1GXi46IU",
        "outputId": "b671d153-1391-43cb-adfc-5a0ce15cce32"
      },
      "outputs": [
        {
          "name": "stdout",
          "output_type": "stream",
          "text": [
            "India\n",
            "Canada\n",
            "United States\n",
            "United Kingdom\n"
          ]
        }
      ],
      "source": [
        "names = ['India', 'Canada', 'United States', 'United Kingdom']\n",
        "for i in names:\n",
        "    print(i)"
      ]
    },
    {
      "cell_type": "code",
      "execution_count": null,
      "metadata": {
        "id": "paYBoWtb46IV",
        "outputId": "7b3759a1-2350-4de6-add7-d415cc757f3f"
      },
      "outputs": [
        {
          "name": "stdout",
          "output_type": "stream",
          "text": [
            "{1, 3}\n",
            "{1, 2, 3}\n",
            "{1, 2, 3, 4}\n",
            "{1, 2, 3, 4, 5, 6, 8}\n"
          ]
        }
      ],
      "source": [
        "# initialize my_set\n",
        "my_set = {1, 3}\n",
        "print(my_set)\n",
        "\n",
        "# my_set[0]\n",
        "# if you uncomment the above line\n",
        "# you will get an error\n",
        "# TypeError: 'set' object does not support indexing\n",
        "\n",
        "# add an element\n",
        "# Output: {1, 2, 3}\n",
        "my_set.add(2)\n",
        "print(my_set)\n",
        "\n",
        "# add multiple elements\n",
        "# Output: {1, 2, 3, 4}\n",
        "my_set.update([2, 3, 4])\n",
        "print(my_set)\n",
        "\n",
        "# add list and set\n",
        "# Output: {1, 2, 3, 4, 5, 6, 8}\n",
        "my_set.update([4, 5], {1, 6, 8})\n",
        "print(my_set)"
      ]
    },
    {
      "cell_type": "code",
      "execution_count": null,
      "metadata": {
        "id": "60FmmCTa46IW",
        "outputId": "888bc5b6-02fd-408d-8c99-600b45443051"
      },
      "outputs": [
        {
          "name": "stdout",
          "output_type": "stream",
          "text": [
            "{1, 3, 4, 5, 6}\n",
            "{1, 3, 5, 6}\n",
            "{1, 3, 5}\n",
            "{1, 3, 5}\n"
          ]
        },
        {
          "ename": "KeyError",
          "evalue": "2",
          "output_type": "error",
          "traceback": [
            "\u001b[0;31m---------------------------------------------------------------------------\u001b[0m",
            "\u001b[0;31mKeyError\u001b[0m                                  Traceback (most recent call last)",
            "\u001b[0;32m<ipython-input-1-c1186f4e9bfb>\u001b[0m in \u001b[0;36m<module>\u001b[0;34m\u001b[0m\n\u001b[1;32m     24\u001b[0m \u001b[0;31m# Output: KeyError\u001b[0m\u001b[0;34m\u001b[0m\u001b[0;34m\u001b[0m\u001b[0;34m\u001b[0m\u001b[0m\n\u001b[1;32m     25\u001b[0m \u001b[0;34m\u001b[0m\u001b[0m\n\u001b[0;32m---> 26\u001b[0;31m \u001b[0mmy_set\u001b[0m\u001b[0;34m.\u001b[0m\u001b[0mremove\u001b[0m\u001b[0;34m(\u001b[0m\u001b[0;36m2\u001b[0m\u001b[0;34m)\u001b[0m\u001b[0;34m\u001b[0m\u001b[0;34m\u001b[0m\u001b[0m\n\u001b[0m",
            "\u001b[0;31mKeyError\u001b[0m: 2"
          ]
        }
      ],
      "source": [
        "# initialize my_set\n",
        "my_set = {1, 3, 4, 5, 6}\n",
        "print(my_set)\n",
        "\n",
        "# discard an element\n",
        "# Output: {1, 3, 5, 6}\n",
        "my_set.discard(4)\n",
        "print(my_set)\n",
        "\n",
        "# remove an element\n",
        "# Output: {1, 3, 5}\n",
        "my_set.remove(6)\n",
        "print(my_set)\n",
        "\n",
        "# discard an element\n",
        "# not present in my_set\n",
        "# Output: {1, 3, 5}\n",
        "my_set.discard(2)\n",
        "print(my_set)\n",
        "\n",
        "# remove an element\n",
        "# not present in my_set\n",
        "# you will get an error.\n",
        "# Output: KeyError\n",
        "\n",
        "my_set.remove(2)"
      ]
    },
    {
      "cell_type": "code",
      "execution_count": null,
      "metadata": {
        "id": "RJN0omm146IX",
        "outputId": "738ac269-fbbd-40ff-e81e-34db0985418e"
      },
      "outputs": [
        {
          "name": "stdout",
          "output_type": "stream",
          "text": [
            "{1, 2, 3, 4, 5, 6, 7, 8}\n"
          ]
        }
      ],
      "source": [
        "# Set union method\n",
        "# initialize A and B\n",
        "A = {1, 2, 3, 4, 5}\n",
        "B = {4, 5, 6, 7, 8}\n",
        "\n",
        "# use | operator\n",
        "# Output: {1, 2, 3, 4, 5, 6, 7, 8}\n",
        "print(A | B)\n"
      ]
    },
    {
      "cell_type": "code",
      "execution_count": null,
      "metadata": {
        "id": "2tzOZ_CK46IY",
        "outputId": "3ca70aa6-de43-4d47-d130-ed0ac298b0d0"
      },
      "outputs": [
        {
          "name": "stdout",
          "output_type": "stream",
          "text": [
            "{4, 5}\n"
          ]
        }
      ],
      "source": [
        "# Intersection of sets\n",
        "# initialize A and B\n",
        "A = {1, 2, 3, 4, 5}\n",
        "B = {4, 5, 6, 7, 8}\n",
        "\n",
        "# use & operator\n",
        "# Output: {4, 5}\n",
        "print(A & B)"
      ]
    },
    {
      "cell_type": "code",
      "execution_count": null,
      "metadata": {
        "id": "U-dBf9th46IZ",
        "outputId": "8514feee-c5ed-4885-fcee-84641cece6a1"
      },
      "outputs": [
        {
          "name": "stdout",
          "output_type": "stream",
          "text": [
            "{1, 2, 3}\n"
          ]
        }
      ],
      "source": [
        "# Difference of two sets\n",
        "# initialize A and B\n",
        "A = {1, 2, 3, 4, 5}\n",
        "B = {4, 5, 6, 7, 8}\n",
        "\n",
        "# use - operator on A\n",
        "# Output: {1, 2, 3}\n",
        "print(A - B)"
      ]
    },
    {
      "cell_type": "code",
      "execution_count": null,
      "metadata": {
        "id": "-_gDkW6346Ia",
        "outputId": "87cd8522-51c4-446c-d7ee-e87a106034fe"
      },
      "outputs": [
        {
          "name": "stdout",
          "output_type": "stream",
          "text": [
            "{1, 2, 3, 6, 7, 8}\n"
          ]
        }
      ],
      "source": [
        "# Symmetric difference of two sets\n",
        "# initialize A and B\n",
        "A = {1, 2, 3, 4, 5}\n",
        "B = {4, 5, 6, 7, 8}\n",
        "\n",
        "# use ^ operator\n",
        "# Output: {1, 2, 3, 6, 7, 8}\n",
        "print(A ^ B)\n"
      ]
    },
    {
      "cell_type": "code",
      "execution_count": null,
      "metadata": {
        "id": "xuxPYf1J46Ia"
      },
      "outputs": [],
      "source": []
    }
  ],
  "metadata": {
    "colab": {
      "provenance": [],
      "include_colab_link": true
    },
    "kernelspec": {
      "display_name": "Python 3",
      "language": "python",
      "name": "python3"
    },
    "language_info": {
      "codemirror_mode": {
        "name": "ipython",
        "version": 3
      },
      "file_extension": ".py",
      "mimetype": "text/x-python",
      "name": "python",
      "nbconvert_exporter": "python",
      "pygments_lexer": "ipython3",
      "version": "3.7.6"
    }
  },
  "nbformat": 4,
  "nbformat_minor": 0
}